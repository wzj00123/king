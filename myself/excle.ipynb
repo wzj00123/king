{
 "cells": [
  {
   "cell_type": "code",
   "execution_count": 3,
   "metadata": {},
   "outputs": [],
   "source": [
    "import xlrd\n",
    "import xlwt\n",
    "from xlutils.copy import copy"
   ]
  },
  {
   "cell_type": "code",
   "execution_count": 42,
   "metadata": {},
   "outputs": [],
   "source": [
    "xlsx=xlrd.open_workbook(\"附件2：河北省高校学生信息统计表.xls\")\n",
    "table=xlsx.sheets()[0]\n",
    "new=xlwt.Workbook()\n",
    "worksheet=new.add_sheet('test2')\n",
    "for i in range(2,100):\n",
    "    over=table.cell(i,1).value\n",
    "    worksheet.write(i,1,over)\n",
    "new.save(\"test.xls\")\n",
    "#over1=table.cell(2,1).value\n",
    "#over2=table.cell(2,1).value\n",
    "#over3=table.row(2)[1].value"
   ]
  },
  {
   "cell_type": "code",
   "execution_count": 28,
   "metadata": {},
   "outputs": [],
   "source": [
    "new=xlwt.Workbook()\n",
    "worksheet=new.add_sheet('didi')\n",
    "worksheet.write(0,0,\"test\")\n",
    "new.save(\"test.xls\")"
   ]
  },
  {
   "cell_type": "code",
   "execution_count": 6,
   "metadata": {},
   "outputs": [],
   "source": [
    "xlsx=xlrd.open_workbook(\"附件2：河北省高校学生信息统计表.xls\")\n",
    "table=xlsx.sheets()[0]\n",
    "newexcel=copy(xlsx)\n",
    "newsheet=newexcel.get_sheet(0)\n",
    "for i in range(2,100):\n",
    "    over=table.cell(i,1).value\n",
    "    newsheet.write(i,5,over)\n",
    "newexcel.save(\"test.xls\")"
   ]
  }
 ],
 "metadata": {
  "kernelspec": {
   "display_name": "Python 3",
   "language": "python",
   "name": "python3"
  },
  "language_info": {
   "codemirror_mode": {
    "name": "ipython",
    "version": 3
   },
   "file_extension": ".py",
   "mimetype": "text/x-python",
   "name": "python",
   "nbconvert_exporter": "python",
   "pygments_lexer": "ipython3",
   "version": "3.7.4"
  }
 },
 "nbformat": 4,
 "nbformat_minor": 2
}
