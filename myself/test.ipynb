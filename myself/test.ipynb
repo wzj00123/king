{
 "cells": [
  {
   "cell_type": "code",
   "execution_count": 1,
   "metadata": {},
   "outputs": [],
   "source": [
    "import urllib\n",
    "import re\n",
    "import xlrd\n",
    "import xlwt\n",
    "from xlutils.copy import copy"
   ]
  },
  {
   "cell_type": "code",
   "execution_count": 5,
   "metadata": {},
   "outputs": [
    {
     "name": "stdout",
     "output_type": "stream",
     "text": [
      "PM2.5=['36'] PM10=['57'] 天气['晴']['20∼27℃']['东南风</span> <span class=\"fr\">东南风4-5级']['良']\n"
     ]
    }
   ],
   "source": [
    "start_url='https://www.yangshitianqi.com/'\n",
    "end_url='.html'\n",
    "key='xiamen'\n",
    "url=start_url+key+end_url\n",
    "req=urllib.request.urlopen(url)\n",
    "req=req.read().decode()\n",
    "PM25='<div class=\"pm1 fl\"><span>(.*?)</span><br />\\nPM2.5</div>'\n",
    "PM10='<div class=\"pm2 fl\"><span>(.*?)</span><br />\\nPM10</div>'\n",
    "weather='<div class=\"box box2 clearfix\"><span class=\"fl nz\">.*?</span> <span class=\"fr\">(.*?)</span></div>'\n",
    "wendu='<div class=\"box box3 clearfix\"><span class=\"fl\">温度</span> <span class=\"fr nz\">(.*?)</span></div>'\n",
    "wind='<div class=\"box box4 clearfix\"><span class=\"fl\">东南风</span> <span class=\"fr\">'\n",
    "zhiliang='<div class=\"fr bar\">\\n<div class=\"ba1\">(.*?)</div>'\n",
    "over1=re.findall(PM25,req)\n",
    "over2=re.findall(PM10,req)\n",
    "over3=re.findall(weather,req)\n",
    "over4=re.findall(wendu,req)\n",
    "over5=re.findall(wind,req)\n",
    "over6=re.findall(zhiliang,req)\n",
    "print(\"PM2.5=\"+str(over1),\"PM10=\"+str(over2),\"天气\"+str(over3)+str(over4)+str(over5)+str(over6))\n",
    "\n",
    "#<div class=\"box box4 clearfix\"><span class=\"fl\">东风</span> <span class=\"fr\">东风4-5级</span></div>\n",
    "#<div class=\"box box4 clearfix\"><span class=\"fl\">北风</span></div>"
   ]
  },
  {
   "cell_type": "code",
   "execution_count": 2,
   "metadata": {},
   "outputs": [
    {
     "ename": "SyntaxError",
     "evalue": "unexpected EOF while parsing (<ipython-input-2-4e3f0a43f61f>, line 24)",
     "output_type": "error",
     "traceback": [
      "\u001b[1;36m  File \u001b[1;32m\"<ipython-input-2-4e3f0a43f61f>\"\u001b[1;36m, line \u001b[1;32m24\u001b[0m\n\u001b[1;33m    print(str(over7),str(over3)+str(over4)+str(over6)+str(over5),\"PM2.5=\"+str(over1),\"PM10=\"+str(over2))\u001b[0m\n\u001b[1;37m                                                                                                        ^\u001b[0m\n\u001b[1;31mSyntaxError\u001b[0m\u001b[1;31m:\u001b[0m unexpected EOF while parsing\n"
     ]
    }
   ],
   "source": [
    "start_url='https://www.yangshitianqi.com/'\n",
    "end_url='.html'\n",
    "where=[\"fuzhou\",\"ximen\",'longyan','sanming','nanping','ningde','putian','zhangzhou','quanzhou']\n",
    "for i in range(9):\n",
    "    key=where[i]\n",
    "    url=start_url+key+end_url\n",
    "    try:\n",
    "        req=urllib.request.urlopen(url)\n",
    "        req=req.read().decode()\n",
    "        PM25='<div class=\"pm1 fl\"><span>(.*?)</span><br />\\nPM2.5</div>'\n",
    "        PM10='<div class=\"pm2 fl\"><span>(.*?)</span><br />\\nPM10</div>'\n",
    "        weather='<div class=\"box box2 clearfix\"><span class=\"fl nz\">(.*?)</span> <span class=\"fr\">(.*?)</span></div>'\n",
    "        wendu='<div class=\"box box3 clearfix\"><span class=\"fl\">温度</span> <span class=\"fr nz\">(.*?)</span></div>'\n",
    "        wind='<div class=\"box box4 clearfix\"><span class=\"fl\">(.*?)</span></div>'\n",
    "        zhiliang='<div class=\"fr bar\">\\n<div class=\"ba1\">(.*?)</div>'\n",
    "        difang='<h1 class=\"tx4\">(.*?)</h1>'\n",
    "        over1=re.findall(PM25,req)\n",
    "        over2=re.findall(PM10,req)\n",
    "        over3=re.findall(weather,req)\n",
    "        over4=re.findall(wendu,req)\n",
    "        over5=re.findall(wind,req)\n",
    "        over6=re.findall(zhiliang,req)\n",
    "        over7=re.findall(difang,req) \n",
    "        print(str(over7),str(over3)+str(over4)+str(over6)+str(over5),\"PM2.5=\"+str(over1),\"PM10=\"+str(over2))"
   ]
  },
  {
   "cell_type": "code",
   "execution_count": 19,
   "metadata": {},
   "outputs": [
    {
     "name": "stdout",
     "output_type": "stream",
     "text": [
      "<re.Match object; span=(0, 10), match='12.168.1.1'>\n"
     ]
    }
   ],
   "source": [
    "e=re.search(r'(([01]{0,1}\\d{0,1}\\d|2[0-4]\\d|25[0-5])\\.){3}([01]{0,1}\\d{0,1}\\d|2[0-4]\\d|25[0-5])','12.168.1.1')\n",
    "print(e)"
   ]
  },
  {
   "cell_type": "code",
   "execution_count": 9,
   "metadata": {
    "scrolled": true
   },
   "outputs": [
    {
     "data": {
      "text/plain": [
       "<re.Match object; span=(6, 9), match='asd'>"
      ]
     },
     "execution_count": 9,
     "metadata": {},
     "output_type": "execute_result"
    }
   ],
   "source": [
    "re.search('asd','sdfsdgasd')"
   ]
  },
  {
   "cell_type": "code",
   "execution_count": 3,
   "metadata": {},
   "outputs": [
    {
     "name": "stdout",
     "output_type": "stream",
     "text": [
      "['福州天气'] [('10/23', '多云')]['19∼26℃']['良']['北风'] PM2.5=['22'] PM10=['60']\n"
     ]
    }
   ],
   "source": [
    "start_url='https://www.yangshitianqi.com/'\n",
    "end_url='.html'\n",
    "where=[\"fuzhou\",\"xiamen\",'longyan','sanming','nanping','ningde','putian','zhangzhou','quanzhou']\n",
    "xlsx=xlrd.open_workbook(\"test.xlsx\")\n",
    "table=xlsx.sheets()[0]\n",
    "newexcel=copy(xlsx)\n",
    "newsheet=newexcel.get_sheet(0)\n",
    "# for i in range(1):\n",
    "#     key=where[i]\n",
    "#     url=start_url+key+end_url\n",
    "#     req=urllib.request.urlopen(url)\n",
    "#     req=req.read().decode()\n",
    "#     PM25='<div class=\"pm1 fl\"><span>(.*?)</span><br />\\nPM2.5</div>'\n",
    "#     PM10='<div class=\"pm2 fl\"><span>(.*?)</span><br />\\nPM10</div>'\n",
    "#     weather='<div class=\"box box2 clearfix\"><span class=\"fl nz\">(.*?)</span> <span class=\"fr\">(.*?)</span></div>'\n",
    "#     wendu='<div class=\"box box3 clearfix\"><span class=\"fl\">温度</span> <span class=\"fr nz\">(.*?)</span></div>'\n",
    "#     wind='<div class=\"box box4 clearfix\"><span class=\"fl\">(.*?)</span></div>'\n",
    "#     zhiliang='<div class=\"fr bar\">\\n<div class=\"ba1\">(.*?)</div>'\n",
    "#     difang='<h1 class=\"tx4\">(.*?)</h1>'\n",
    "#     over1=re.findall(PM25,req)\n",
    "#     over2=re.findall(PM10,req)\n",
    "#     over3=re.findall(weather,req)\n",
    "#     over4=re.findall(wendu,req)\n",
    "#     over5=re.findall(wind,req)\n",
    "#     over6=re.findall(zhiliang,req)\n",
    "#     over7=re.findall(difang,req) \n",
    "#     print(str(over7),str(over3)+str(over4)+str(over6)+str(over5),\"PM2.5=\"+str(over1),\"PM10=\"+str(over2))\n"
   ]
  }
 ],
 "metadata": {
  "kernelspec": {
   "display_name": "Python 3",
   "language": "python",
   "name": "python3"
  },
  "language_info": {
   "codemirror_mode": {
    "name": "ipython",
    "version": 3
   },
   "file_extension": ".py",
   "mimetype": "text/x-python",
   "name": "python",
   "nbconvert_exporter": "python",
   "pygments_lexer": "ipython3",
   "version": "3.7.4"
  }
 },
 "nbformat": 4,
 "nbformat_minor": 2
}
