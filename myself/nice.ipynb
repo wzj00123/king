{
 "cells": [
  {
   "cell_type": "code",
   "execution_count": 1,
   "metadata": {},
   "outputs": [],
   "source": [
    "import urllib\n",
    "import re"
   ]
  },
  {
   "cell_type": "code",
   "execution_count": 2,
   "metadata": {},
   "outputs": [
    {
     "name": "stdout",
     "output_type": "stream",
     "text": [
      "['福州天气'] [('10/23', '多云')]['19∼26℃']['良']['北风'] PM2.5=['22'] PM10=['60']\n"
     ]
    }
   ],
   "source": [
    "start_url='https://www.yangshitianqi.com/'\n",
    "end_url='.html'\n",
    "where=[\"fuzhou\",\"xiamen\",'longyan','sanming','nanping','ningde','putian','zhangzhou','quanzhou']\n",
    "for i in range(1):\n",
    "    key=where[i]\n",
    "    url=start_url+key+end_url\n",
    "    req=urllib.request.urlopen(url)\n",
    "    req=req.read().decode()\n",
    "    PM25='<div class=\"pm1 fl\"><span>(.*?)</span><br />\\nPM2.5</div>'\n",
    "    PM10='<div class=\"pm2 fl\"><span>(.*?)</span><br />\\nPM10</div>'\n",
    "    weather='<div class=\"box box2 clearfix\"><span class=\"fl nz\">(.*?)</span> <span class=\"fr\">(.*?)</span></div>'\n",
    "    wendu='<div class=\"box box3 clearfix\"><span class=\"fl\">温度</span> <span class=\"fr nz\">(.*?)</span></div>'\n",
    "    wind='<div class=\"box box4 clearfix\"><span class=\"fl\">(.*?)</span></div>'\n",
    "    zhiliang='<div class=\"fr bar\">\\n<div class=\"ba1\">(.*?)</div>'\n",
    "    difang='<h1 class=\"tx4\">(.*?)</h1>'\n",
    "    over1=re.findall(PM25,req)\n",
    "    over2=re.findall(PM10,req)\n",
    "    over3=re.findall(weather,req)\n",
    "    over4=re.findall(wendu,req)\n",
    "    over5=re.findall(wind,req)\n",
    "    over6=re.findall(zhiliang,req)\n",
    "    over7=re.findall(difang,req) \n",
    "    print(str(over7),str(over3)+str(over4)+str(over6)+str(over5),\"PM2.5=\"+str(over1),\"PM10=\"+str(over2))"
   ]
  },
  {
   "cell_type": "code",
   "execution_count": 4,
   "metadata": {},
   "outputs": [
    {
     "name": "stdout",
     "output_type": "stream",
     "text": [
      "['昆明天气'] [('10/22', '多云')]['12∼24℃']['优']['西风</span> <span class=\"fr\">西风3-4级'] PM2.5=['9'] PM10=['30']\n",
      "['曲靖天气'] [('10/22', '小雨')]['13∼22℃']['优']['西风</span> <span class=\"fr\">西风3-4级'] PM2.5=['13'] PM10=['30']\n",
      "['个旧天气'] [('10/22', '多云')]['16∼23℃']['优']['北风'] PM2.5=[] PM10=[]\n",
      "['玉溪天气'] [('10/22', '多云')]['13∼25℃']['优']['西风</span> <span class=\"fr\">西风3-4级'] PM2.5=['8'] PM10=['14']\n",
      "['昭通天气'] [('10/22', '小雨')]['9∼16℃']['优']['北风'] PM2.5=['13'] PM10=['22']\n",
      "['东川天气'] [('10/22', '小雨')]['18∼27℃']['优']['西风</span> <span class=\"fr\">西风3-4级'] PM2.5=[] PM10=[]\n",
      "['文山天气'] [('10/22', '多云')]['18∼26℃']['优']['北风'] PM2.5=['10'] PM10=['21']\n",
      "['普洱天气'] [('10/22', '多云')]['17∼28℃']['优']['北风'] PM2.5=['14'] PM10=['21']\n",
      "[] [('10/22', '多云')]['21∼33℃']['良']['北风'] PM2.5=['32'] PM10=['62']\n",
      "['临沧天气'] [('10/22', '多云')]['14∼25℃']['良']['北风'] PM2.5=['17'] PM10=['66']\n",
      "['楚雄天气'] [('10/22', '多云')]['13∼23℃']['良']['北风'] PM2.5=['42'] PM10=['95']\n",
      "['大理天气'] [('10/22', '多云')]['9∼20℃']['优']['北风'] PM2.5=['15'] PM10=['21']\n",
      "['保山天气'] [('10/22', '多云')]['14∼21℃']['优']['北风'] PM2.5=['17'] PM10=['20']\n",
      "['丽江天气'] [('10/22', '多云')]['7∼16℃']['优']['北风'] PM2.5=['9'] PM10=['11']\n",
      "['怒江天气'] [('10/22', '阵雨')]['16∼22℃']['优']['北风'] PM2.5=['27'] PM10=['43']\n",
      "['德宏天气'] [('10/22', '多云')]['18∼28℃']['优']['北风'] PM2.5=['17'] PM10=['40']\n",
      "['迪庆天气'] [('10/22', '多云')]['-1∼10℃']['优']['北风'] PM2.5=['17'] PM10=['19']\n"
     ]
    }
   ],
   "source": [
    "start_url='https://www.yangshitianqi.com/'\n",
    "end_url='.html'\n",
    "where=['kunming','qujing','gejiu','yuxi','zhaotong','dongchuan','wenshan','puer','xishuangbanna','lincang','chuxiong','dali','baoshan','lijiang','nujiang','dehong','diqing']\n",
    "for i in range(17):\n",
    "    key=where[i]\n",
    "    url=start_url+key+end_url\n",
    "    req=urllib.request.urlopen(url)\n",
    "    req=req.read().decode()\n",
    "    PM25='<div class=\"pm1 fl\"><span>(.*?)</span><br />\\nPM2.5</div>'\n",
    "    PM10='<div class=\"pm2 fl\"><span>(.*?)</span><br />\\nPM10</div>'\n",
    "    weather='<div class=\"box box2 clearfix\"><span class=\"fl nz\">(.*?)</span> <span class=\"fr\">(.*?)</span></div>'\n",
    "    wendu='<div class=\"box box3 clearfix\"><span class=\"fl\">温度</span> <span class=\"fr nz\">(.*?)</span></div>'\n",
    "    wind='<div class=\"box box4 clearfix\"><span class=\"fl\">(.*?)</span></div>'\n",
    "    zhiliang='<div class=\"fr bar\">\\n<div class=\"ba1\">(.*?)</div>'\n",
    "    difang='<h1 class=\"tx4\">(.*?)</h1>'\n",
    "    over1=re.findall(PM25,req)\n",
    "    over2=re.findall(PM10,req)\n",
    "    over3=re.findall(weather,req)\n",
    "    over4=re.findall(wendu,req)\n",
    "    over5=re.findall(wind,req)\n",
    "    over6=re.findall(zhiliang,req)\n",
    "    over7=re.findall(difang,req) \n",
    "    print(str(over7),str(over3)+str(over4)+str(over6)+str(over5),\"PM2.5=\"+str(over1),\"PM10=\"+str(over2))"
   ]
  }
 ],
 "metadata": {
  "kernelspec": {
   "display_name": "Python 3",
   "language": "python",
   "name": "python3"
  },
  "language_info": {
   "codemirror_mode": {
    "name": "ipython",
    "version": 3
   },
   "file_extension": ".py",
   "mimetype": "text/x-python",
   "name": "python",
   "nbconvert_exporter": "python",
   "pygments_lexer": "ipython3",
   "version": "3.7.4"
  }
 },
 "nbformat": 4,
 "nbformat_minor": 2
}
