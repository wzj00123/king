{
 "cells": [
  {
   "cell_type": "code",
   "execution_count": 3,
   "metadata": {},
   "outputs": [],
   "source": [
    "import urllib\n",
    "import re"
   ]
  },
  {
   "cell_type": "code",
   "execution_count": 24,
   "metadata": {},
   "outputs": [
    {
     "name": "stdout",
     "output_type": "stream",
     "text": [
      "PM2.5=['30'] PM10=['69'] 天气['晴']['18∼29℃']['东风3-4级']['良']\n"
     ]
    }
   ],
   "source": [
    "start_url='https://www.yangshitianqi.com/'\n",
    "end_url='.html'\n",
    "key='zhangzhou'\n",
    "url=start_url+key+end_url\n",
    "req=urllib.request.urlopen(url)\n",
    "req=req.read().decode()\n",
    "PM25='<div class=\"pm1 fl\"><span>(.*?)</span><br />\\nPM2.5</div>'\n",
    "PM10='<div class=\"pm2 fl\"><span>(.*?)</span><br />\\nPM10</div>'\n",
    "weather='<div class=\"box box2 clearfix\"><span class=\"fl nz\">.*?</span> <span class=\"fr\">(.*?)</span></div>'\n",
    "wendu='<div class=\"box box3 clearfix\"><span class=\"fl\">温度</span> <span class=\"fr nz\">(.*?)</span></div>'\n",
    "wind='<div class=\"box box4 clearfix\"><span class=\"fl\">.*?</span> <span class=\"fr\">(.*?)</span></div>'\n",
    "zhiliang='<div class=\"fr bar\">\\n<div class=\"ba1\">(.*?)</div>'\n",
    "over1=re.findall(PM25,req)\n",
    "over2=re.findall(PM10,req)\n",
    "over3=re.findall(weather,req)\n",
    "over4=re.findall(wendu,req)\n",
    "over5=re.findall(wind,req)\n",
    "over6=re.findall(zhiliang,req)\n",
    "print(\"PM2.5=\"+str(over1),\"PM10=\"+str(over2),\"天气\"+str(over3)+str(over4)+str(over5)+str(over6))"
   ]
  },
  {
   "cell_type": "code",
   "execution_count": null,
   "metadata": {},
   "outputs": [],
   "source": []
  }
 ],
 "metadata": {
  "kernelspec": {
   "display_name": "Python 3",
   "language": "python",
   "name": "python3"
  },
  "language_info": {
   "codemirror_mode": {
    "name": "ipython",
    "version": 3
   },
   "file_extension": ".py",
   "mimetype": "text/x-python",
   "name": "python",
   "nbconvert_exporter": "python",
   "pygments_lexer": "ipython3",
   "version": "3.7.4"
  }
 },
 "nbformat": 4,
 "nbformat_minor": 2
}
